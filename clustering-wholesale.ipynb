{
 "cells": [
  {
   "cell_type": "markdown",
   "metadata": {},
   "source": [
    "# Working with Unlabeled Data – Cluster Analysis\n",
    "Find the best number of clusters with __k_means__ and __agglomerative clustering__"
   ]
  },
  {
   "cell_type": "markdown",
   "metadata": {},
   "source": [
    "## Overview\n",
    "\n",
    "1. Load the data file\n",
    "    - check the shape and plot the content  \n",
    "1. Observe the pair plot and comment the shapes in view of clustering \n",
    "    1. if necessary, transform the data\n",
    "1. Use the elbow method to find the optimal number of clusters, to do this test `KMeans` with varying number of clusters, from 2 to 10: for each value of `k` \n",
    "    - fit the data\n",
    "    - compute the __inertia__ and the __silhouette score__  \n",
    "    - store them for plot\n",
    "1. Plot inertia and silhouette score versus `k`\n",
    "1. Choose the optimal number of clusters looking at the plots\n",
    "1. Cluster the data using the optimal number, plot the cluster assignment \n",
    "    - in the plot choose the features that seem to be most promising\n",
    "1. For comparison, repeat the same operation with the `AgglomerativeClustering`\n",
    "        "
   ]
  },
  {
   "cell_type": "code",
   "execution_count": 1,
   "metadata": {},
   "outputs": [],
   "source": [
    "import numpy as np\n",
    "import matplotlib.pyplot as plt\n",
    "import seaborn as sns\n",
    "import pandas as pd\n",
    "from sklearn.cluster import KMeans\n",
    "from sklearn.metrics import silhouette_score, silhouette_samples\n",
    "from mpl_toolkits import mplot3d\n",
    "\n",
    "random_state = 42 # This variable will be used in all the procedure calls allowing a random_state parameter\n",
    "               # in this way the running can be perfectly reproduced\n",
    "               # just change this value for a different experiment"
   ]
  }
 ],
 "metadata": {
  "kernelspec": {
   "display_name": "gpu_env",
   "language": "python",
   "name": "python3"
  },
  "language_info": {
   "codemirror_mode": {
    "name": "ipython",
    "version": 3
   },
   "file_extension": ".py",
   "mimetype": "text/x-python",
   "name": "python",
   "nbconvert_exporter": "python",
   "pygments_lexer": "ipython3",
   "version": "3.9.19"
  }
 },
 "nbformat": 4,
 "nbformat_minor": 2
}
